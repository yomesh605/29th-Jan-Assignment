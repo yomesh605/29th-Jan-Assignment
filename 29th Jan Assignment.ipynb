{
 "cells": [
  {
   "cell_type": "code",
   "execution_count": 2,
   "id": "67b2f762-8005-446e-9ff4-caee4acd1f18",
   "metadata": {},
   "outputs": [
    {
     "data": {
      "text/plain": [
       "'Who developed Python Programming Language ?'"
      ]
     },
     "execution_count": 3,
     "metadata": {},
     "output_type": "execute_result"
    }
   ],
   "source": [
    "\"Who developed Python Programming Language ?\""
   ]
  },
  {
   "cell_type": "code",
   "execution_count": 4,
   "id": "0f588d14-56a3-45d1-a1cc-dcfa67d86742",
   "metadata": {},
   "outputs": [
    {
     "data": {
      "text/plain": [
       "'Guido van Rossum'"
      ]
     },
     "execution_count": 4,
     "metadata": {},
     "output_type": "execute_result"
    }
   ],
   "source": [
    "\"Guido van Rossum\""
   ]
  },
  {
   "cell_type": "code",
   "execution_count": 5,
   "id": "751a7484-92c4-4c0c-a758-ed89a678a1e8",
   "metadata": {},
   "outputs": [
    {
     "data": {
      "text/plain": [
       "'Which Type of Programming does Python Support ?'"
      ]
     },
     "execution_count": 5,
     "metadata": {},
     "output_type": "execute_result"
    }
   ],
   "source": [
    "\"Which Type of Programming does Python Support ?\""
   ]
  },
  {
   "cell_type": "code",
   "execution_count": 6,
   "id": "0151adcb-7097-4312-87b0-601b5cfefa09",
   "metadata": {},
   "outputs": [
    {
     "data": {
      "text/plain": [
       "'Object-oriented programming and structured programming'"
      ]
     },
     "execution_count": 6,
     "metadata": {},
     "output_type": "execute_result"
    }
   ],
   "source": [
    "\"Object-oriented programming and structured programming\""
   ]
  },
  {
   "cell_type": "code",
   "execution_count": 7,
   "id": "ae950109-4d13-4546-891b-cefabacc90fa",
   "metadata": {},
   "outputs": [
    {
     "data": {
      "text/plain": [
       "'Is Python Case Sensitive when dealing with Identifiers?'"
      ]
     },
     "execution_count": 7,
     "metadata": {},
     "output_type": "execute_result"
    }
   ],
   "source": [
    "\"Is Python Case Sensitive when dealing with Identifiers?\""
   ]
  },
  {
   "cell_type": "code",
   "execution_count": 8,
   "id": "5d00097c-4f1a-43dd-9d5c-26070848dcb1",
   "metadata": {},
   "outputs": [
    {
     "data": {
      "text/plain": [
       "'Yes, Python is a Case Sensitive Language'"
      ]
     },
     "execution_count": 8,
     "metadata": {},
     "output_type": "execute_result"
    }
   ],
   "source": [
    "\"Yes, Python is a Case Sensitive Language\""
   ]
  },
  {
   "cell_type": "code",
   "execution_count": 9,
   "id": "3964874f-7159-4b0f-9a15-36d53938008f",
   "metadata": {},
   "outputs": [
    {
     "data": {
      "text/plain": [
       "'What is the correct extension of the Python file?'"
      ]
     },
     "execution_count": 9,
     "metadata": {},
     "output_type": "execute_result"
    }
   ],
   "source": [
    "\"What is the correct extension of the Python file?\""
   ]
  },
  {
   "cell_type": "code",
   "execution_count": 10,
   "id": "243ff3a0-faf8-496f-80de-a8d6319508a1",
   "metadata": {},
   "outputs": [
    {
     "data": {
      "text/plain": [
       "'.py'"
      ]
     },
     "execution_count": 10,
     "metadata": {},
     "output_type": "execute_result"
    }
   ],
   "source": [
    "\".py\""
   ]
  },
  {
   "cell_type": "code",
   "execution_count": 11,
   "id": "75a504c1-07f2-4432-b0ca-7709bcbf8a4e",
   "metadata": {},
   "outputs": [
    {
     "data": {
      "text/plain": [
       "'Is Python code compiled or interpreted?'"
      ]
     },
     "execution_count": 11,
     "metadata": {},
     "output_type": "execute_result"
    }
   ],
   "source": [
    "\"Is Python code compiled or interpreted?\""
   ]
  },
  {
   "cell_type": "code",
   "execution_count": 12,
   "id": "652bc5b2-3943-4898-b0e8-e11639ad2b2e",
   "metadata": {},
   "outputs": [
    {
     "data": {
      "text/plain": [
       "'interpreted language'"
      ]
     },
     "execution_count": 12,
     "metadata": {},
     "output_type": "execute_result"
    }
   ],
   "source": [
    "\"interpreted language\""
   ]
  },
  {
   "cell_type": "code",
   "execution_count": 13,
   "id": "fca4543e-8daf-41f0-a929-86e84532c23c",
   "metadata": {},
   "outputs": [
    {
     "data": {
      "text/plain": [
       "'Name a few blocks of code used to define in Python language?'"
      ]
     },
     "execution_count": 13,
     "metadata": {},
     "output_type": "execute_result"
    }
   ],
   "source": [
    "\"Name a few blocks of code used to define in Python language?\""
   ]
  },
  {
   "cell_type": "code",
   "execution_count": 14,
   "id": "c8ee6735-ba45-4e5a-9d4a-f36be617b8b9",
   "metadata": {},
   "outputs": [
    {
     "data": {
      "text/plain": [
       "'Indentation & Braces {}'"
      ]
     },
     "execution_count": 14,
     "metadata": {},
     "output_type": "execute_result"
    }
   ],
   "source": [
    "\"Indentation & Braces {}\""
   ]
  },
  {
   "cell_type": "code",
   "execution_count": 15,
   "id": "a93ba58b-76c5-432a-b87f-cccc1616105c",
   "metadata": {},
   "outputs": [
    {
     "data": {
      "text/plain": [
       "'State a character used to give single-line comments in Python?'"
      ]
     },
     "execution_count": 15,
     "metadata": {},
     "output_type": "execute_result"
    }
   ],
   "source": [
    "\"State a character used to give single-line comments in Python?\""
   ]
  },
  {
   "cell_type": "code",
   "execution_count": 16,
   "id": "43dad5fa-fc88-40f2-a344-f3159f35c45a",
   "metadata": {},
   "outputs": [
    {
     "data": {
      "text/plain": [
       "'# Character'"
      ]
     },
     "execution_count": 16,
     "metadata": {},
     "output_type": "execute_result"
    }
   ],
   "source": [
    "\"# Character\""
   ]
  },
  {
   "cell_type": "code",
   "execution_count": 17,
   "id": "c0d97ea2-6599-4688-987b-133f49a10583",
   "metadata": {},
   "outputs": [
    {
     "data": {
      "text/plain": [
       "'Mention functions which can help us to find the version of python that we are currently working on?'"
      ]
     },
     "execution_count": 17,
     "metadata": {},
     "output_type": "execute_result"
    }
   ],
   "source": [
    "\"Mention functions which can help us to find the version of python that we are currently working on?\""
   ]
  },
  {
   "cell_type": "code",
   "execution_count": 18,
   "id": "73fd2678-91ba-4aad-8ca3-abb3d3329a03",
   "metadata": {},
   "outputs": [
    {
     "data": {
      "text/plain": [
       "'Mention functions which can help us to find the version of python that we are currently working on?'"
      ]
     },
     "execution_count": 18,
     "metadata": {},
     "output_type": "execute_result"
    }
   ],
   "source": [
    "\"Mention functions which can help us to find the version of python that we are currently working on?\""
   ]
  },
  {
   "cell_type": "code",
   "execution_count": 19,
   "id": "1361231c-6125-48b1-853a-c74ae5728885",
   "metadata": {},
   "outputs": [
    {
     "name": "stdout",
     "output_type": "stream",
     "text": [
      "User Current Version:- 3.10.8 | packaged by conda-forge | (main, Nov 22 2022, 08:26:04) [GCC 10.4.0]\n"
     ]
    }
   ],
   "source": [
    "import sys\n",
    "\n",
    "\n",
    "print(\"User Current Version:-\", sys.version)"
   ]
  },
  {
   "cell_type": "code",
   "execution_count": 20,
   "id": "f58bbfd7-9a96-4e94-8467-fb3b4cfda869",
   "metadata": {},
   "outputs": [
    {
     "data": {
      "text/plain": [
       "'Python supports the creation of anonymous functions at runtime, using a construct called'"
      ]
     },
     "execution_count": 20,
     "metadata": {},
     "output_type": "execute_result"
    }
   ],
   "source": [
    "\"Python supports the creation of anonymous functions at runtime, using a construct called\""
   ]
  },
  {
   "cell_type": "code",
   "execution_count": 21,
   "id": "79a5dc5b-83b8-4b30-a90e-07ad741ae0c7",
   "metadata": {},
   "outputs": [
    {
     "data": {
      "text/plain": [
       "'lambda'"
      ]
     },
     "execution_count": 21,
     "metadata": {},
     "output_type": "execute_result"
    }
   ],
   "source": [
    "\"lambda\""
   ]
  },
  {
   "cell_type": "code",
   "execution_count": 22,
   "id": "9b6ba66d-44b6-4a03-8f84-3b99f921edeb",
   "metadata": {},
   "outputs": [
    {
     "data": {
      "text/plain": [
       "'What does pip stand for python?'"
      ]
     },
     "execution_count": 22,
     "metadata": {},
     "output_type": "execute_result"
    }
   ],
   "source": [
    "\"What does pip stand for python?\""
   ]
  },
  {
   "cell_type": "code",
   "execution_count": 23,
   "id": "64f78d7f-3d2c-4469-b49f-2fbb78576dfc",
   "metadata": {},
   "outputs": [
    {
     "data": {
      "text/plain": [
       "'preferred installer program'"
      ]
     },
     "execution_count": 23,
     "metadata": {},
     "output_type": "execute_result"
    }
   ],
   "source": [
    "\"preferred installer program\""
   ]
  },
  {
   "cell_type": "code",
   "execution_count": 24,
   "id": "70f70cc2-611f-4a77-ba4f-61871134a9ec",
   "metadata": {},
   "outputs": [
    {
     "data": {
      "text/plain": [
       "'Mention a few built-in functions in python?'"
      ]
     },
     "execution_count": 24,
     "metadata": {},
     "output_type": "execute_result"
    }
   ],
   "source": [
    "\"Mention a few built-in functions in python?\""
   ]
  },
  {
   "cell_type": "code",
   "execution_count": 25,
   "id": "f0dc580b-b346-4247-ac60-483672e117b1",
   "metadata": {},
   "outputs": [
    {
     "data": {
      "text/plain": [
       "'print() function, type() function, input() function, max() function '"
      ]
     },
     "execution_count": 25,
     "metadata": {},
     "output_type": "execute_result"
    }
   ],
   "source": [
    "\"print() function, type() function, input() function, max() function \""
   ]
  },
  {
   "cell_type": "code",
   "execution_count": 1,
   "id": "7e1921a8-4312-4999-8f98-77cd7ef1d203",
   "metadata": {},
   "outputs": [
    {
     "data": {
      "text/plain": [
       "'What is the maximum possible length of an identifier in Python?'"
      ]
     },
     "execution_count": 1,
     "metadata": {},
     "output_type": "execute_result"
    }
   ],
   "source": [
    "\"What is the maximum possible length of an identifier in Python?\""
   ]
  },
  {
   "cell_type": "code",
   "execution_count": 2,
   "id": "a0bf156b-7ce3-4e70-b3da-2d9d8cc73e21",
   "metadata": {},
   "outputs": [
    {
     "data": {
      "text/plain": [
       "'79 Characters'"
      ]
     },
     "execution_count": 2,
     "metadata": {},
     "output_type": "execute_result"
    }
   ],
   "source": [
    "\"79 Characters\""
   ]
  },
  {
   "cell_type": "code",
   "execution_count": 3,
   "id": "e47df289-d522-4d3c-8a75-ea314d866e7d",
   "metadata": {},
   "outputs": [
    {
     "data": {
      "text/plain": [
       "'What are the benefits of using Python?'"
      ]
     },
     "execution_count": 3,
     "metadata": {},
     "output_type": "execute_result"
    }
   ],
   "source": [
    "\"What are the benefits of using Python?\""
   ]
  },
  {
   "cell_type": "code",
   "execution_count": 4,
   "id": "5a0aaf8e-5a34-4f53-84da-837b1fcb3300",
   "metadata": {},
   "outputs": [
    {
     "data": {
      "text/plain": [
       "'Developing Websites & Software, Task Automation, Data Visualization, Data Analysis'"
      ]
     },
     "execution_count": 4,
     "metadata": {},
     "output_type": "execute_result"
    }
   ],
   "source": [
    "\"Developing Websites & Software, Task Automation, Data Visualization, Data Analysis\""
   ]
  },
  {
   "cell_type": "code",
   "execution_count": 5,
   "id": "e6495bb2-5e19-44a1-b894-8ed8e739a15d",
   "metadata": {},
   "outputs": [
    {
     "data": {
      "text/plain": [
       "'How is memory managed in Python?'"
      ]
     },
     "execution_count": 5,
     "metadata": {},
     "output_type": "execute_result"
    }
   ],
   "source": [
    "\"How is memory managed in Python?\""
   ]
  },
  {
   "cell_type": "code",
   "execution_count": 6,
   "id": "13d90a74-8368-4527-9ff3-6c03e6097f64",
   "metadata": {},
   "outputs": [
    {
     "data": {
      "text/plain": [
       "\"The memory is a heap that stores the program's objects and other data structures. The Python memory manager uses API methods to handle the allocation and deallocation of this heap space.\""
      ]
     },
     "execution_count": 6,
     "metadata": {},
     "output_type": "execute_result"
    }
   ],
   "source": [
    "\"The memory is a heap that stores the program's objects and other data structures. The Python memory manager uses API methods to handle the allocation and deallocation of this heap space.\""
   ]
  },
  {
   "cell_type": "code",
   "execution_count": 7,
   "id": "8ebfa451-00e2-4300-bad0-62391e77cb06",
   "metadata": {},
   "outputs": [
    {
     "data": {
      "text/plain": [
       "'How to install Python on Windows and set path variables?'"
      ]
     },
     "execution_count": 7,
     "metadata": {},
     "output_type": "execute_result"
    }
   ],
   "source": [
    "\"How to install Python on Windows and set path variables?\""
   ]
  },
  {
   "cell_type": "code",
   "execution_count": 36,
   "id": "4b5294c6-2add-4ce2-9e1e-557b561848f7",
   "metadata": {},
   "outputs": [
    {
     "name": "stdout",
     "output_type": "stream",
     "text": [
      "To Install Python on Windows: Open Microsoft Tools and then search for Python with latest version clcik on install for automatic Installation.\n",
      "The complete path of python.exe can be added by 1) Right-clicking This PC and going to Properties.2) Clicking on the Advanced system settings in the menu on the left.3) Clicking on the Environment Variables button on the bottom right.In the System variables section, selecting the Path variable and clicking on Edit.4) The next screen will show all the directories that are currently a part of the PATH variable.5) Clicking on New and entering Python’s install directory\n"
     ]
    }
   ],
   "source": [
    "print(\"To Install Python on Windows: Open Microsoft Tools and then search for Python with latest version clcik on install for automatic Installation.\")\n",
    "print(\"The complete path of python.exe can be added by 1) Right-clicking This PC and going to Properties.2) Clicking on the Advanced system settings in the menu on the left.3) Clicking on the Environment Variables button on the bottom right.In the System variables section, selecting the Path variable and clicking on Edit.4) The next screen will show all the directories that are currently a part of the PATH variable.5) Clicking on New and entering Python’s install directory\")"
   ]
  },
  {
   "cell_type": "code",
   "execution_count": 1,
   "id": "35e6db4c-1bc9-4efc-90fc-628db511cd12",
   "metadata": {},
   "outputs": [
    {
     "data": {
      "text/plain": [
       "'Is Indentation Required in Python?'"
      ]
     },
     "execution_count": 1,
     "metadata": {},
     "output_type": "execute_result"
    }
   ],
   "source": [
    "\"Is Indentation Required in Python?\""
   ]
  },
  {
   "cell_type": "code",
   "execution_count": null,
   "id": "fc13e43a-3a98-4ced-8b37-0029f0f52d6a",
   "metadata": {},
   "outputs": [],
   "source": [
    "\"Yes, It is very Important\""
   ]
  }
 ],
 "metadata": {
  "kernelspec": {
   "display_name": "Python 3 (ipykernel)",
   "language": "python",
   "name": "python3"
  },
  "language_info": {
   "codemirror_mode": {
    "name": "ipython",
    "version": 3
   },
   "file_extension": ".py",
   "mimetype": "text/x-python",
   "name": "python",
   "nbconvert_exporter": "python",
   "pygments_lexer": "ipython3",
   "version": "3.10.8"
  }
 },
 "nbformat": 4,
 "nbformat_minor": 5
}
